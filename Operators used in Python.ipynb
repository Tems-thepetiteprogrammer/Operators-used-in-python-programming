{
 "cells": [
  {
   "cell_type": "markdown",
   "id": "8edadadf",
   "metadata": {},
   "source": [
    "# Data Science Assignment"
   ]
  },
  {
   "cell_type": "code",
   "execution_count": 1,
   "id": "aa0441cb",
   "metadata": {},
   "outputs": [
    {
     "name": "stdout",
     "output_type": "stream",
     "text": [
      "Hello Mr Sage, welcome to my assignment room\n"
     ]
    }
   ],
   "source": [
    "print (\"Hello Mr Sage, welcome to my assignment room\")"
   ]
  },
  {
   "cell_type": "markdown",
   "id": "1d62ec8e",
   "metadata": {},
   "source": [
    "Arithmetic Operator"
   ]
  },
  {
   "cell_type": "code",
   "execution_count": 2,
   "id": "caa96b0f",
   "metadata": {},
   "outputs": [
    {
     "data": {
      "text/plain": [
       "8"
      ]
     },
     "execution_count": 2,
     "metadata": {},
     "output_type": "execute_result"
    }
   ],
   "source": [
    "#Addition Operator\n",
    "2 + 6"
   ]
  },
  {
   "cell_type": "code",
   "execution_count": 4,
   "id": "9e856e50",
   "metadata": {},
   "outputs": [
    {
     "name": "stdout",
     "output_type": "stream",
     "text": [
      "26\n"
     ]
    }
   ],
   "source": [
    "print (3 + 5 + 18)"
   ]
  },
  {
   "cell_type": "code",
   "execution_count": 7,
   "id": "100b5b72",
   "metadata": {},
   "outputs": [
    {
     "name": "stdout",
     "output_type": "stream",
     "text": [
      "105\n"
     ]
    }
   ],
   "source": [
    "print (2+5+98)"
   ]
  },
  {
   "cell_type": "code",
   "execution_count": 8,
   "id": "2697bf8b",
   "metadata": {},
   "outputs": [
    {
     "data": {
      "text/plain": [
       "2"
      ]
     },
     "execution_count": 8,
     "metadata": {},
     "output_type": "execute_result"
    }
   ],
   "source": [
    "2+0"
   ]
  },
  {
   "cell_type": "code",
   "execution_count": 9,
   "id": "2df02ae4",
   "metadata": {},
   "outputs": [
    {
     "data": {
      "text/plain": [
       "1121"
      ]
     },
     "execution_count": 9,
     "metadata": {},
     "output_type": "execute_result"
    }
   ],
   "source": [
    "100+700+321"
   ]
  },
  {
   "cell_type": "code",
   "execution_count": 10,
   "id": "71026676",
   "metadata": {},
   "outputs": [
    {
     "data": {
      "text/plain": [
       "1203"
      ]
     },
     "execution_count": 10,
     "metadata": {},
     "output_type": "execute_result"
    }
   ],
   "source": [
    "190+890+123"
   ]
  },
  {
   "cell_type": "code",
   "execution_count": 11,
   "id": "b92e1cf7",
   "metadata": {},
   "outputs": [
    {
     "name": "stdout",
     "output_type": "stream",
     "text": [
      "1155\n"
     ]
    }
   ],
   "source": [
    "print (23+901+231)"
   ]
  },
  {
   "cell_type": "code",
   "execution_count": 12,
   "id": "f2292f85",
   "metadata": {},
   "outputs": [
    {
     "data": {
      "text/plain": [
       "111"
      ]
     },
     "execution_count": 12,
     "metadata": {},
     "output_type": "execute_result"
    }
   ],
   "source": [
    "33+78"
   ]
  },
  {
   "cell_type": "code",
   "execution_count": 5,
   "id": "0464147a",
   "metadata": {},
   "outputs": [
    {
     "name": "stdout",
     "output_type": "stream",
     "text": [
      "Indomie is delicious\n"
     ]
    }
   ],
   "source": [
    "print (\"Indomie\"+ ' is '+ \"delicious\")"
   ]
  },
  {
   "cell_type": "code",
   "execution_count": 7,
   "id": "980b432c",
   "metadata": {},
   "outputs": [
    {
     "data": {
      "text/plain": [
       "'hii Temi'"
      ]
     },
     "execution_count": 7,
     "metadata": {},
     "output_type": "execute_result"
    }
   ],
   "source": [
    "\"hii\" + \" Temi\""
   ]
  },
  {
   "cell_type": "code",
   "execution_count": 15,
   "id": "2b935c5b",
   "metadata": {},
   "outputs": [
    {
     "data": {
      "text/plain": [
       "400"
      ]
     },
     "execution_count": 15,
     "metadata": {},
     "output_type": "execute_result"
    }
   ],
   "source": [
    "#subtraction operator\n",
    "500-100"
   ]
  },
  {
   "cell_type": "code",
   "execution_count": 16,
   "id": "1ebec492",
   "metadata": {},
   "outputs": [
    {
     "data": {
      "text/plain": [
       "109"
      ]
     },
     "execution_count": 16,
     "metadata": {},
     "output_type": "execute_result"
    }
   ],
   "source": [
    "200-12-79"
   ]
  },
  {
   "cell_type": "code",
   "execution_count": 17,
   "id": "c4fb6697",
   "metadata": {},
   "outputs": [
    {
     "data": {
      "text/plain": [
       "-11"
      ]
     },
     "execution_count": 17,
     "metadata": {},
     "output_type": "execute_result"
    }
   ],
   "source": [
    "10-21"
   ]
  },
  {
   "cell_type": "code",
   "execution_count": 18,
   "id": "a06f7309",
   "metadata": {},
   "outputs": [
    {
     "data": {
      "text/plain": [
       "-799"
      ]
     },
     "execution_count": 18,
     "metadata": {},
     "output_type": "execute_result"
    }
   ],
   "source": [
    "122-900-21"
   ]
  },
  {
   "cell_type": "code",
   "execution_count": 1,
   "id": "89431b6a",
   "metadata": {},
   "outputs": [
    {
     "name": "stdout",
     "output_type": "stream",
     "text": [
      "144\n"
     ]
    }
   ],
   "source": [
    "print (500-356)"
   ]
  },
  {
   "cell_type": "code",
   "execution_count": 3,
   "id": "d871f652",
   "metadata": {},
   "outputs": [
    {
     "name": "stdout",
     "output_type": "stream",
     "text": [
      "302\n"
     ]
    }
   ],
   "source": [
    "print (670-100-178-90)"
   ]
  },
  {
   "cell_type": "code",
   "execution_count": 4,
   "id": "e931131c",
   "metadata": {},
   "outputs": [
    {
     "name": "stdout",
     "output_type": "stream",
     "text": [
      "137\n"
     ]
    }
   ],
   "source": [
    "print (235-98)"
   ]
  },
  {
   "cell_type": "code",
   "execution_count": 5,
   "id": "552729ee",
   "metadata": {},
   "outputs": [
    {
     "data": {
      "text/plain": [
       "-26"
      ]
     },
     "execution_count": 5,
     "metadata": {},
     "output_type": "execute_result"
    }
   ],
   "source": [
    "52-78"
   ]
  },
  {
   "cell_type": "code",
   "execution_count": 6,
   "id": "c3bf0944",
   "metadata": {},
   "outputs": [
    {
     "data": {
      "text/plain": [
       "-438"
      ]
     },
     "execution_count": 6,
     "metadata": {},
     "output_type": "execute_result"
    }
   ],
   "source": [
    "129-567"
   ]
  },
  {
   "cell_type": "code",
   "execution_count": 7,
   "id": "43759f0c",
   "metadata": {},
   "outputs": [
    {
     "data": {
      "text/plain": [
       "582"
      ]
     },
     "execution_count": 7,
     "metadata": {},
     "output_type": "execute_result"
    }
   ],
   "source": [
    "762-90-87-3"
   ]
  },
  {
   "cell_type": "code",
   "execution_count": 8,
   "id": "e3998a1c",
   "metadata": {},
   "outputs": [
    {
     "data": {
      "text/plain": [
       "24"
      ]
     },
     "execution_count": 8,
     "metadata": {},
     "output_type": "execute_result"
    }
   ],
   "source": [
    "#Multiplication operator\n",
    "8*3"
   ]
  },
  {
   "cell_type": "code",
   "execution_count": 9,
   "id": "973c8dc3",
   "metadata": {},
   "outputs": [
    {
     "data": {
      "text/plain": [
       "6764"
      ]
     },
     "execution_count": 9,
     "metadata": {},
     "output_type": "execute_result"
    }
   ],
   "source": [
    "89*76"
   ]
  },
  {
   "cell_type": "code",
   "execution_count": 10,
   "id": "38b78f83",
   "metadata": {},
   "outputs": [
    {
     "data": {
      "text/plain": [
       "162"
      ]
     },
     "execution_count": 10,
     "metadata": {},
     "output_type": "execute_result"
    }
   ],
   "source": [
    "3*9*6"
   ]
  },
  {
   "cell_type": "code",
   "execution_count": 11,
   "id": "2a92f516",
   "metadata": {},
   "outputs": [
    {
     "data": {
      "text/plain": [
       "207"
      ]
     },
     "execution_count": 11,
     "metadata": {},
     "output_type": "execute_result"
    }
   ],
   "source": [
    "23*9"
   ]
  },
  {
   "cell_type": "code",
   "execution_count": 12,
   "id": "717c6cb3",
   "metadata": {},
   "outputs": [
    {
     "data": {
      "text/plain": [
       "0"
      ]
     },
     "execution_count": 12,
     "metadata": {},
     "output_type": "execute_result"
    }
   ],
   "source": [
    "87*0*5"
   ]
  },
  {
   "cell_type": "code",
   "execution_count": 13,
   "id": "28119188",
   "metadata": {},
   "outputs": [
    {
     "data": {
      "text/plain": [
       "9"
      ]
     },
     "execution_count": 13,
     "metadata": {},
     "output_type": "execute_result"
    }
   ],
   "source": [
    "9*1"
   ]
  },
  {
   "cell_type": "code",
   "execution_count": 14,
   "id": "5718ede6",
   "metadata": {},
   "outputs": [
    {
     "data": {
      "text/plain": [
       "20078240"
      ]
     },
     "execution_count": 14,
     "metadata": {},
     "output_type": "execute_result"
    }
   ],
   "source": [
    "32*9653*65"
   ]
  },
  {
   "cell_type": "code",
   "execution_count": 15,
   "id": "3ab0471f",
   "metadata": {},
   "outputs": [
    {
     "data": {
      "text/plain": [
       "65455"
      ]
     },
     "execution_count": 15,
     "metadata": {},
     "output_type": "execute_result"
    }
   ],
   "source": [
    "1235*53\n"
   ]
  },
  {
   "cell_type": "code",
   "execution_count": 8,
   "id": "f8e68283",
   "metadata": {},
   "outputs": [
    {
     "data": {
      "text/plain": [
       "'Go Sage Go Sage Go Sage '"
      ]
     },
     "execution_count": 8,
     "metadata": {},
     "output_type": "execute_result"
    }
   ],
   "source": [
    "\"Go Sage \"*3"
   ]
  },
  {
   "cell_type": "code",
   "execution_count": 13,
   "id": "46696c2b",
   "metadata": {},
   "outputs": [
    {
     "name": "stdout",
     "output_type": "stream",
     "text": [
      "I love you so much I love you so much I love you so much \n"
     ]
    }
   ],
   "source": [
    "print (\"I love you so much \"*3)"
   ]
  },
  {
   "cell_type": "code",
   "execution_count": 18,
   "id": "51ad8e53",
   "metadata": {},
   "outputs": [
    {
     "name": "stdout",
     "output_type": "stream",
     "text": [
      "1563\n"
     ]
    }
   ],
   "source": [
    "print (521*3)"
   ]
  },
  {
   "cell_type": "code",
   "execution_count": 19,
   "id": "3f11618e",
   "metadata": {},
   "outputs": [
    {
     "data": {
      "text/plain": [
       "390625"
      ]
     },
     "execution_count": 19,
     "metadata": {},
     "output_type": "execute_result"
    }
   ],
   "source": [
    "#exponential operator\n",
    "5**8"
   ]
  },
  {
   "cell_type": "code",
   "execution_count": 20,
   "id": "3358b1c4",
   "metadata": {},
   "outputs": [
    {
     "data": {
      "text/plain": [
       "8"
      ]
     },
     "execution_count": 20,
     "metadata": {},
     "output_type": "execute_result"
    }
   ],
   "source": [
    "2**3"
   ]
  },
  {
   "cell_type": "code",
   "execution_count": 21,
   "id": "8a7ac614",
   "metadata": {},
   "outputs": [
    {
     "data": {
      "text/plain": [
       "25"
      ]
     },
     "execution_count": 21,
     "metadata": {},
     "output_type": "execute_result"
    }
   ],
   "source": [
    "5**2"
   ]
  },
  {
   "cell_type": "code",
   "execution_count": 22,
   "id": "9e236a1e",
   "metadata": {},
   "outputs": [
    {
     "data": {
      "text/plain": [
       "7921"
      ]
     },
     "execution_count": 22,
     "metadata": {},
     "output_type": "execute_result"
    }
   ],
   "source": [
    "89**2"
   ]
  },
  {
   "cell_type": "code",
   "execution_count": 23,
   "id": "313c0b81",
   "metadata": {},
   "outputs": [
    {
     "data": {
      "text/plain": [
       "36"
      ]
     },
     "execution_count": 23,
     "metadata": {},
     "output_type": "execute_result"
    }
   ],
   "source": [
    "6**2"
   ]
  },
  {
   "cell_type": "code",
   "execution_count": 24,
   "id": "8d716b82",
   "metadata": {},
   "outputs": [
    {
     "data": {
      "text/plain": [
       "1"
      ]
     },
     "execution_count": 24,
     "metadata": {},
     "output_type": "execute_result"
    }
   ],
   "source": [
    "5**0"
   ]
  },
  {
   "cell_type": "code",
   "execution_count": 25,
   "id": "a9fd3612",
   "metadata": {},
   "outputs": [
    {
     "data": {
      "text/plain": [
       "1"
      ]
     },
     "execution_count": 25,
     "metadata": {},
     "output_type": "execute_result"
    }
   ],
   "source": [
    "10**0"
   ]
  },
  {
   "cell_type": "code",
   "execution_count": 26,
   "id": "ff0cceb2",
   "metadata": {},
   "outputs": [
    {
     "name": "stdout",
     "output_type": "stream",
     "text": [
      "2197\n"
     ]
    }
   ],
   "source": [
    "print (13**3)"
   ]
  },
  {
   "cell_type": "code",
   "execution_count": 27,
   "id": "218cbb2f",
   "metadata": {},
   "outputs": [
    {
     "name": "stdout",
     "output_type": "stream",
     "text": [
      "1728\n"
     ]
    }
   ],
   "source": [
    "print (12**3)"
   ]
  },
  {
   "cell_type": "code",
   "execution_count": 29,
   "id": "7959c84c",
   "metadata": {},
   "outputs": [
    {
     "name": "stdout",
     "output_type": "stream",
     "text": [
      "1\n"
     ]
    }
   ],
   "source": [
    "print (1**1)"
   ]
  },
  {
   "cell_type": "code",
   "execution_count": 1,
   "id": "376e927c",
   "metadata": {},
   "outputs": [
    {
     "data": {
      "text/plain": [
       "10.6"
      ]
     },
     "execution_count": 1,
     "metadata": {},
     "output_type": "execute_result"
    }
   ],
   "source": [
    "# Division operator\n",
    "53/5"
   ]
  },
  {
   "cell_type": "code",
   "execution_count": 2,
   "id": "a5614826",
   "metadata": {},
   "outputs": [
    {
     "data": {
      "text/plain": [
       "3.5"
      ]
     },
     "execution_count": 2,
     "metadata": {},
     "output_type": "execute_result"
    }
   ],
   "source": [
    "21/6"
   ]
  },
  {
   "cell_type": "code",
   "execution_count": 5,
   "id": "282b5b52",
   "metadata": {},
   "outputs": [
    {
     "data": {
      "text/plain": [
       "11.0"
      ]
     },
     "execution_count": 5,
     "metadata": {},
     "output_type": "execute_result"
    }
   ],
   "source": [
    "55/5"
   ]
  },
  {
   "cell_type": "code",
   "execution_count": 4,
   "id": "356c37b7",
   "metadata": {},
   "outputs": [
    {
     "data": {
      "text/plain": [
       "9.0"
      ]
     },
     "execution_count": 4,
     "metadata": {},
     "output_type": "execute_result"
    }
   ],
   "source": [
    "90/10"
   ]
  },
  {
   "cell_type": "code",
   "execution_count": 6,
   "id": "5c77aa4f",
   "metadata": {},
   "outputs": [
    {
     "data": {
      "text/plain": [
       "111.0"
      ]
     },
     "execution_count": 6,
     "metadata": {},
     "output_type": "execute_result"
    }
   ],
   "source": [
    "111/1"
   ]
  },
  {
   "cell_type": "code",
   "execution_count": 7,
   "id": "41b361a9",
   "metadata": {},
   "outputs": [
    {
     "data": {
      "text/plain": [
       "11.0"
      ]
     },
     "execution_count": 7,
     "metadata": {},
     "output_type": "execute_result"
    }
   ],
   "source": [
    "121/11"
   ]
  },
  {
   "cell_type": "code",
   "execution_count": 8,
   "id": "439c6a91",
   "metadata": {},
   "outputs": [
    {
     "data": {
      "text/plain": [
       "14.6296992481203"
      ]
     },
     "execution_count": 8,
     "metadata": {},
     "output_type": "execute_result"
    }
   ],
   "source": [
    "7783/532"
   ]
  },
  {
   "cell_type": "code",
   "execution_count": 9,
   "id": "8418fe8a",
   "metadata": {},
   "outputs": [
    {
     "data": {
      "text/plain": [
       "12518.4062816616"
      ]
     },
     "execution_count": 9,
     "metadata": {},
     "output_type": "execute_result"
    }
   ],
   "source": [
    "12355667/987"
   ]
  },
  {
   "cell_type": "code",
   "execution_count": 11,
   "id": "20006fcc",
   "metadata": {},
   "outputs": [
    {
     "data": {
      "text/plain": [
       "1.5"
      ]
     },
     "execution_count": 11,
     "metadata": {},
     "output_type": "execute_result"
    }
   ],
   "source": [
    "3/2"
   ]
  },
  {
   "cell_type": "code",
   "execution_count": 12,
   "id": "70d8b759",
   "metadata": {},
   "outputs": [
    {
     "data": {
      "text/plain": [
       "8.8"
      ]
     },
     "execution_count": 12,
     "metadata": {},
     "output_type": "execute_result"
    }
   ],
   "source": [
    "44/5"
   ]
  },
  {
   "cell_type": "code",
   "execution_count": 13,
   "id": "fefcaef1",
   "metadata": {},
   "outputs": [
    {
     "name": "stdout",
     "output_type": "stream",
     "text": [
      "8.0\n"
     ]
    }
   ],
   "source": [
    "print (32/4)"
   ]
  },
  {
   "cell_type": "code",
   "execution_count": 17,
   "id": "005e60bc",
   "metadata": {},
   "outputs": [
    {
     "name": "stdout",
     "output_type": "stream",
     "text": [
      "24.6\n"
     ]
    }
   ],
   "source": [
    "print (123/5)"
   ]
  },
  {
   "cell_type": "code",
   "execution_count": 18,
   "id": "b6328ac3",
   "metadata": {},
   "outputs": [
    {
     "data": {
      "text/plain": [
       "1"
      ]
     },
     "execution_count": 18,
     "metadata": {},
     "output_type": "execute_result"
    }
   ],
   "source": [
    "#Floor division operator\n",
    "100//78"
   ]
  },
  {
   "cell_type": "code",
   "execution_count": 19,
   "id": "82928d57",
   "metadata": {},
   "outputs": [
    {
     "data": {
      "text/plain": [
       "7"
      ]
     },
     "execution_count": 19,
     "metadata": {},
     "output_type": "execute_result"
    }
   ],
   "source": [
    "67//9"
   ]
  },
  {
   "cell_type": "code",
   "execution_count": 20,
   "id": "ade531ad",
   "metadata": {},
   "outputs": [
    {
     "data": {
      "text/plain": [
       "0"
      ]
     },
     "execution_count": 20,
     "metadata": {},
     "output_type": "execute_result"
    }
   ],
   "source": [
    "231//8889"
   ]
  },
  {
   "cell_type": "code",
   "execution_count": 21,
   "id": "acb72706",
   "metadata": {},
   "outputs": [
    {
     "data": {
      "text/plain": [
       "5"
      ]
     },
     "execution_count": 21,
     "metadata": {},
     "output_type": "execute_result"
    }
   ],
   "source": [
    "132//23"
   ]
  },
  {
   "cell_type": "code",
   "execution_count": 22,
   "id": "8f01fd90",
   "metadata": {},
   "outputs": [
    {
     "data": {
      "text/plain": [
       "7"
      ]
     },
     "execution_count": 22,
     "metadata": {},
     "output_type": "execute_result"
    }
   ],
   "source": [
    "498//64"
   ]
  },
  {
   "cell_type": "code",
   "execution_count": 23,
   "id": "7d517f91",
   "metadata": {},
   "outputs": [
    {
     "data": {
      "text/plain": [
       "6"
      ]
     },
     "execution_count": 23,
     "metadata": {},
     "output_type": "execute_result"
    }
   ],
   "source": [
    "56//9"
   ]
  },
  {
   "cell_type": "code",
   "execution_count": 25,
   "id": "4a7d9bcf",
   "metadata": {},
   "outputs": [
    {
     "data": {
      "text/plain": [
       "3"
      ]
     },
     "execution_count": 25,
     "metadata": {},
     "output_type": "execute_result"
    }
   ],
   "source": [
    "12//4"
   ]
  },
  {
   "cell_type": "code",
   "execution_count": 26,
   "id": "a4cd78e1",
   "metadata": {},
   "outputs": [
    {
     "name": "stdout",
     "output_type": "stream",
     "text": [
      "67\n"
     ]
    }
   ],
   "source": [
    "print (67//1)"
   ]
  },
  {
   "cell_type": "code",
   "execution_count": 27,
   "id": "ac53fae0",
   "metadata": {},
   "outputs": [
    {
     "name": "stdout",
     "output_type": "stream",
     "text": [
      "1\n"
     ]
    }
   ],
   "source": [
    "print (23//12)"
   ]
  },
  {
   "cell_type": "code",
   "execution_count": 30,
   "id": "d60a1ed5",
   "metadata": {},
   "outputs": [
    {
     "name": "stdout",
     "output_type": "stream",
     "text": [
      "13\n"
     ]
    }
   ],
   "source": [
    "print (1213//87)"
   ]
  },
  {
   "cell_type": "code",
   "execution_count": 31,
   "id": "f29d567c",
   "metadata": {},
   "outputs": [
    {
     "data": {
      "text/plain": [
       "2"
      ]
     },
     "execution_count": 31,
     "metadata": {},
     "output_type": "execute_result"
    }
   ],
   "source": [
    "#Modulus operator\n",
    "56%6"
   ]
  },
  {
   "cell_type": "code",
   "execution_count": 32,
   "id": "caefff0b",
   "metadata": {},
   "outputs": [
    {
     "data": {
      "text/plain": [
       "2"
      ]
     },
     "execution_count": 32,
     "metadata": {},
     "output_type": "execute_result"
    }
   ],
   "source": [
    "230%6"
   ]
  },
  {
   "cell_type": "code",
   "execution_count": 33,
   "id": "98a07622",
   "metadata": {},
   "outputs": [
    {
     "data": {
      "text/plain": [
       "3"
      ]
     },
     "execution_count": 33,
     "metadata": {},
     "output_type": "execute_result"
    }
   ],
   "source": [
    "129%9"
   ]
  },
  {
   "cell_type": "code",
   "execution_count": 34,
   "id": "684ebb94",
   "metadata": {},
   "outputs": [
    {
     "data": {
      "text/plain": [
       "0"
      ]
     },
     "execution_count": 34,
     "metadata": {},
     "output_type": "execute_result"
    }
   ],
   "source": [
    "100%10"
   ]
  },
  {
   "cell_type": "code",
   "execution_count": 35,
   "id": "9b6bfd37",
   "metadata": {},
   "outputs": [
    {
     "data": {
      "text/plain": [
       "0"
      ]
     },
     "execution_count": 35,
     "metadata": {},
     "output_type": "execute_result"
    }
   ],
   "source": [
    "12%12"
   ]
  },
  {
   "cell_type": "code",
   "execution_count": 36,
   "id": "279b6fc7",
   "metadata": {},
   "outputs": [
    {
     "data": {
      "text/plain": [
       "67"
      ]
     },
     "execution_count": 36,
     "metadata": {},
     "output_type": "execute_result"
    }
   ],
   "source": [
    "165%98"
   ]
  },
  {
   "cell_type": "code",
   "execution_count": 37,
   "id": "ce98e543",
   "metadata": {},
   "outputs": [
    {
     "data": {
      "text/plain": [
       "248"
      ]
     },
     "execution_count": 37,
     "metadata": {},
     "output_type": "execute_result"
    }
   ],
   "source": [
    "1235%987"
   ]
  },
  {
   "cell_type": "code",
   "execution_count": 38,
   "id": "f7023267",
   "metadata": {},
   "outputs": [
    {
     "name": "stdout",
     "output_type": "stream",
     "text": [
      "0\n"
     ]
    }
   ],
   "source": [
    "print (35%5)"
   ]
  },
  {
   "cell_type": "code",
   "execution_count": 40,
   "id": "89ef22ef",
   "metadata": {},
   "outputs": [
    {
     "name": "stdout",
     "output_type": "stream",
     "text": [
      "1\n"
     ]
    }
   ],
   "source": [
    "print (3%2)"
   ]
  },
  {
   "cell_type": "code",
   "execution_count": 42,
   "id": "cb73e8e4",
   "metadata": {},
   "outputs": [
    {
     "name": "stdout",
     "output_type": "stream",
     "text": [
      "4\n"
     ]
    }
   ],
   "source": [
    "print (956%8)"
   ]
  },
  {
   "cell_type": "markdown",
   "id": "2313a228",
   "metadata": {},
   "source": [
    "Assignment Operator"
   ]
  },
  {
   "cell_type": "code",
   "execution_count": 14,
   "id": "7e25f7e0",
   "metadata": {},
   "outputs": [],
   "source": [
    "first_name= \"Temi\""
   ]
  },
  {
   "cell_type": "code",
   "execution_count": 17,
   "id": "a0f1ba0b",
   "metadata": {},
   "outputs": [],
   "source": [
    "last_name = \"Otun\""
   ]
  },
  {
   "cell_type": "code",
   "execution_count": 24,
   "id": "610db5a6",
   "metadata": {},
   "outputs": [
    {
     "name": "stdout",
     "output_type": "stream",
     "text": [
      "OtunTemi\n"
     ]
    }
   ],
   "source": [
    "print (last_name + first_name)"
   ]
  },
  {
   "cell_type": "code",
   "execution_count": 27,
   "id": "e451e3a9",
   "metadata": {},
   "outputs": [],
   "source": [
    "x=6"
   ]
  },
  {
   "cell_type": "code",
   "execution_count": 28,
   "id": "8f505b90",
   "metadata": {},
   "outputs": [],
   "source": [
    "y=7"
   ]
  },
  {
   "cell_type": "code",
   "execution_count": 29,
   "id": "83065933",
   "metadata": {},
   "outputs": [],
   "source": [
    "z=2"
   ]
  },
  {
   "cell_type": "code",
   "execution_count": 30,
   "id": "33955bf7",
   "metadata": {},
   "outputs": [
    {
     "data": {
      "text/plain": [
       "15"
      ]
     },
     "execution_count": 30,
     "metadata": {},
     "output_type": "execute_result"
    }
   ],
   "source": [
    "x+y+z"
   ]
  },
  {
   "cell_type": "code",
   "execution_count": 31,
   "id": "b1d4335c",
   "metadata": {},
   "outputs": [
    {
     "data": {
      "text/plain": [
       "-5"
      ]
     },
     "execution_count": 31,
     "metadata": {},
     "output_type": "execute_result"
    }
   ],
   "source": [
    "z-y"
   ]
  },
  {
   "cell_type": "code",
   "execution_count": 34,
   "id": "d231e949",
   "metadata": {},
   "outputs": [
    {
     "data": {
      "text/plain": [
       "56"
      ]
     },
     "execution_count": 34,
     "metadata": {},
     "output_type": "execute_result"
    }
   ],
   "source": [
    "(x+z)*y"
   ]
  },
  {
   "cell_type": "code",
   "execution_count": 39,
   "id": "38c307c8",
   "metadata": {},
   "outputs": [],
   "source": [
    "a=20"
   ]
  },
  {
   "cell_type": "code",
   "execution_count": 37,
   "id": "6d9e8a07",
   "metadata": {},
   "outputs": [],
   "source": [
    "b=5"
   ]
  },
  {
   "cell_type": "code",
   "execution_count": 40,
   "id": "bc180bc9",
   "metadata": {},
   "outputs": [
    {
     "data": {
      "text/plain": [
       "20"
      ]
     },
     "execution_count": 40,
     "metadata": {},
     "output_type": "execute_result"
    }
   ],
   "source": [
    "a"
   ]
  },
  {
   "cell_type": "code",
   "execution_count": 41,
   "id": "60107411",
   "metadata": {},
   "outputs": [
    {
     "data": {
      "text/plain": [
       "0.25"
      ]
     },
     "execution_count": 41,
     "metadata": {},
     "output_type": "execute_result"
    }
   ],
   "source": [
    "b/a"
   ]
  },
  {
   "cell_type": "code",
   "execution_count": 42,
   "id": "023a7004",
   "metadata": {},
   "outputs": [
    {
     "data": {
      "text/plain": [
       "25"
      ]
     },
     "execution_count": 42,
     "metadata": {},
     "output_type": "execute_result"
    }
   ],
   "source": [
    "b**2"
   ]
  },
  {
   "cell_type": "code",
   "execution_count": 43,
   "id": "75b52e49",
   "metadata": {},
   "outputs": [
    {
     "data": {
      "text/plain": [
       "2"
      ]
     },
     "execution_count": 43,
     "metadata": {},
     "output_type": "execute_result"
    }
   ],
   "source": [
    "a%6"
   ]
  },
  {
   "cell_type": "code",
   "execution_count": 52,
   "id": "7e50f938",
   "metadata": {},
   "outputs": [],
   "source": [
    "present_year=2023"
   ]
  },
  {
   "cell_type": "code",
   "execution_count": 45,
   "id": "594bec22",
   "metadata": {},
   "outputs": [],
   "source": [
    "twenty_years_ago=2003"
   ]
  },
  {
   "cell_type": "code",
   "execution_count": 47,
   "id": "8a69b91d",
   "metadata": {},
   "outputs": [],
   "source": [
    "next_decade=2033"
   ]
  },
  {
   "cell_type": "code",
   "execution_count": 49,
   "id": "7bfe0820",
   "metadata": {},
   "outputs": [
    {
     "data": {
      "text/plain": [
       "2033"
      ]
     },
     "execution_count": 49,
     "metadata": {},
     "output_type": "execute_result"
    }
   ],
   "source": [
    "next_decade"
   ]
  },
  {
   "cell_type": "code",
   "execution_count": 53,
   "id": "8475a50a",
   "metadata": {},
   "outputs": [
    {
     "data": {
      "text/plain": [
       "2023"
      ]
     },
     "execution_count": 53,
     "metadata": {},
     "output_type": "execute_result"
    }
   ],
   "source": [
    "present_year"
   ]
  },
  {
   "cell_type": "code",
   "execution_count": 55,
   "id": "d2e54a65",
   "metadata": {},
   "outputs": [
    {
     "data": {
      "text/plain": [
       "10"
      ]
     },
     "execution_count": 55,
     "metadata": {},
     "output_type": "execute_result"
    }
   ],
   "source": [
    "next_decade - present_year"
   ]
  },
  {
   "cell_type": "code",
   "execution_count": 56,
   "id": "a69427e1",
   "metadata": {},
   "outputs": [
    {
     "data": {
      "text/plain": [
       "4026"
      ]
     },
     "execution_count": 56,
     "metadata": {},
     "output_type": "execute_result"
    }
   ],
   "source": [
    "twenty_years_ago+present_year"
   ]
  },
  {
   "cell_type": "markdown",
   "id": "b288b498",
   "metadata": {},
   "source": [
    "Comparison Operator"
   ]
  },
  {
   "cell_type": "code",
   "execution_count": 58,
   "id": "90320716",
   "metadata": {},
   "outputs": [
    {
     "data": {
      "text/plain": [
       "False"
      ]
     },
     "execution_count": 58,
     "metadata": {},
     "output_type": "execute_result"
    }
   ],
   "source": [
    "present_year==next_decade"
   ]
  },
  {
   "cell_type": "code",
   "execution_count": 61,
   "id": "1ee44e51",
   "metadata": {},
   "outputs": [
    {
     "data": {
      "text/plain": [
       "False"
      ]
     },
     "execution_count": 61,
     "metadata": {},
     "output_type": "execute_result"
    }
   ],
   "source": [
    "twenty_years_ago==next_decade"
   ]
  },
  {
   "cell_type": "code",
   "execution_count": 62,
   "id": "663021a9",
   "metadata": {},
   "outputs": [
    {
     "data": {
      "text/plain": [
       "True"
      ]
     },
     "execution_count": 62,
     "metadata": {},
     "output_type": "execute_result"
    }
   ],
   "source": [
    "present_year!= 2009"
   ]
  },
  {
   "cell_type": "code",
   "execution_count": 63,
   "id": "8188cbf4",
   "metadata": {},
   "outputs": [
    {
     "data": {
      "text/plain": [
       "False"
      ]
     },
     "execution_count": 63,
     "metadata": {},
     "output_type": "execute_result"
    }
   ],
   "source": [
    "69>98"
   ]
  },
  {
   "cell_type": "code",
   "execution_count": 65,
   "id": "dbbf0828",
   "metadata": {},
   "outputs": [
    {
     "data": {
      "text/plain": [
       "True"
      ]
     },
     "execution_count": 65,
     "metadata": {},
     "output_type": "execute_result"
    }
   ],
   "source": [
    "900<1213"
   ]
  },
  {
   "cell_type": "code",
   "execution_count": 66,
   "id": "23e56693",
   "metadata": {},
   "outputs": [
    {
     "data": {
      "text/plain": [
       "True"
      ]
     },
     "execution_count": 66,
     "metadata": {},
     "output_type": "execute_result"
    }
   ],
   "source": [
    "20>=10"
   ]
  },
  {
   "cell_type": "code",
   "execution_count": 70,
   "id": "8c9c8207",
   "metadata": {},
   "outputs": [
    {
     "data": {
      "text/plain": [
       "True"
      ]
     },
     "execution_count": 70,
     "metadata": {},
     "output_type": "execute_result"
    }
   ],
   "source": [
    "56<=100"
   ]
  },
  {
   "cell_type": "code",
   "execution_count": 71,
   "id": "5a780c9d",
   "metadata": {},
   "outputs": [
    {
     "data": {
      "text/plain": [
       "False"
      ]
     },
     "execution_count": 71,
     "metadata": {},
     "output_type": "execute_result"
    }
   ],
   "source": [
    "a==b"
   ]
  },
  {
   "cell_type": "code",
   "execution_count": 72,
   "id": "1e052844",
   "metadata": {},
   "outputs": [
    {
     "data": {
      "text/plain": [
       "True"
      ]
     },
     "execution_count": 72,
     "metadata": {},
     "output_type": "execute_result"
    }
   ],
   "source": [
    "y>z"
   ]
  },
  {
   "cell_type": "code",
   "execution_count": 73,
   "id": "76398a21",
   "metadata": {},
   "outputs": [
    {
     "data": {
      "text/plain": [
       "True"
      ]
     },
     "execution_count": 73,
     "metadata": {},
     "output_type": "execute_result"
    }
   ],
   "source": [
    "x!=b"
   ]
  },
  {
   "cell_type": "markdown",
   "id": "fc2ce4b7",
   "metadata": {},
   "source": [
    "Logical Operator"
   ]
  },
  {
   "cell_type": "code",
   "execution_count": 74,
   "id": "dd2d4957",
   "metadata": {},
   "outputs": [
    {
     "data": {
      "text/plain": [
       "False"
      ]
     },
     "execution_count": 74,
     "metadata": {},
     "output_type": "execute_result"
    }
   ],
   "source": [
    "55>11 and 55<51"
   ]
  },
  {
   "cell_type": "code",
   "execution_count": 75,
   "id": "4ed1202b",
   "metadata": {},
   "outputs": [
    {
     "data": {
      "text/plain": [
       "True"
      ]
     },
     "execution_count": 75,
     "metadata": {},
     "output_type": "execute_result"
    }
   ],
   "source": [
    "not (55>11 and 55<51)"
   ]
  },
  {
   "cell_type": "code",
   "execution_count": 78,
   "id": "5be952f9",
   "metadata": {},
   "outputs": [
    {
     "data": {
      "text/plain": [
       "False"
      ]
     },
     "execution_count": 78,
     "metadata": {},
     "output_type": "execute_result"
    }
   ],
   "source": [
    "x!=b and b>x"
   ]
  },
  {
   "cell_type": "code",
   "execution_count": 79,
   "id": "f933a1bf",
   "metadata": {},
   "outputs": [
    {
     "data": {
      "text/plain": [
       "True"
      ]
     },
     "execution_count": 79,
     "metadata": {},
     "output_type": "execute_result"
    }
   ],
   "source": [
    "not (x!=b and b>x)"
   ]
  },
  {
   "cell_type": "code",
   "execution_count": 81,
   "id": "ebffd250",
   "metadata": {},
   "outputs": [
    {
     "data": {
      "text/plain": [
       "True"
      ]
     },
     "execution_count": 81,
     "metadata": {},
     "output_type": "execute_result"
    }
   ],
   "source": [
    "22==11 or 22>11"
   ]
  },
  {
   "cell_type": "code",
   "execution_count": 82,
   "id": "2cf42886",
   "metadata": {},
   "outputs": [
    {
     "data": {
      "text/plain": [
       "False"
      ]
     },
     "execution_count": 82,
     "metadata": {},
     "output_type": "execute_result"
    }
   ],
   "source": [
    "not (22==11 or 22>11)"
   ]
  },
  {
   "cell_type": "code",
   "execution_count": 83,
   "id": "a7b07694",
   "metadata": {},
   "outputs": [
    {
     "data": {
      "text/plain": [
       "True"
      ]
     },
     "execution_count": 83,
     "metadata": {},
     "output_type": "execute_result"
    }
   ],
   "source": [
    "100<10 or 100>10"
   ]
  },
  {
   "cell_type": "code",
   "execution_count": 84,
   "id": "d8255be4",
   "metadata": {},
   "outputs": [
    {
     "data": {
      "text/plain": [
       "False"
      ]
     },
     "execution_count": 84,
     "metadata": {},
     "output_type": "execute_result"
    }
   ],
   "source": [
    "not (100<10 or 100>10)"
   ]
  },
  {
   "cell_type": "code",
   "execution_count": 85,
   "id": "da5d4eee",
   "metadata": {},
   "outputs": [
    {
     "data": {
      "text/plain": [
       "False"
      ]
     },
     "execution_count": 85,
     "metadata": {},
     "output_type": "execute_result"
    }
   ],
   "source": [
    "not (355!=677)"
   ]
  },
  {
   "cell_type": "markdown",
   "id": "870dcea7",
   "metadata": {},
   "source": [
    "Membership Operator "
   ]
  },
  {
   "cell_type": "code",
   "execution_count": 86,
   "id": "faf4d0ec",
   "metadata": {},
   "outputs": [
    {
     "data": {
      "text/plain": [
       "True"
      ]
     },
     "execution_count": 86,
     "metadata": {},
     "output_type": "execute_result"
    }
   ],
   "source": [
    "'u'in \"cough\""
   ]
  },
  {
   "cell_type": "code",
   "execution_count": 87,
   "id": "9245b6c9",
   "metadata": {},
   "outputs": [
    {
     "data": {
      "text/plain": [
       "True"
      ]
     },
     "execution_count": 87,
     "metadata": {},
     "output_type": "execute_result"
    }
   ],
   "source": [
    "\"op\" in \"operator\""
   ]
  },
  {
   "cell_type": "code",
   "execution_count": 88,
   "id": "7d9ed939",
   "metadata": {},
   "outputs": [
    {
     "data": {
      "text/plain": [
       "False"
      ]
     },
     "execution_count": 88,
     "metadata": {},
     "output_type": "execute_result"
    }
   ],
   "source": [
    "\"ee\" in \"embrace\""
   ]
  },
  {
   "cell_type": "code",
   "execution_count": 1,
   "id": "74296f8c",
   "metadata": {},
   "outputs": [
    {
     "data": {
      "text/plain": [
       "False"
      ]
     },
     "execution_count": 1,
     "metadata": {},
     "output_type": "execute_result"
    }
   ],
   "source": [
    "\"h\" in \"Haly\""
   ]
  },
  {
   "cell_type": "code",
   "execution_count": 2,
   "id": "5eb8fd1e",
   "metadata": {},
   "outputs": [],
   "source": [
    "Sentence = 'I miss my mummy. Cant wait to go back home'"
   ]
  },
  {
   "cell_type": "code",
   "execution_count": 4,
   "id": "a1698a24",
   "metadata": {},
   "outputs": [
    {
     "data": {
      "text/plain": [
       "True"
      ]
     },
     "execution_count": 4,
     "metadata": {},
     "output_type": "execute_result"
    }
   ],
   "source": [
    "\"mummy\" in Sentence "
   ]
  },
  {
   "cell_type": "code",
   "execution_count": 6,
   "id": "5b757de2",
   "metadata": {},
   "outputs": [
    {
     "data": {
      "text/plain": [
       "False"
      ]
     },
     "execution_count": 6,
     "metadata": {},
     "output_type": "execute_result"
    }
   ],
   "source": [
    "\"come\" in Sentence"
   ]
  },
  {
   "cell_type": "code",
   "execution_count": 10,
   "id": "3f59b010",
   "metadata": {},
   "outputs": [],
   "source": [
    "Equation= 'x+y+z'"
   ]
  },
  {
   "cell_type": "code",
   "execution_count": 15,
   "id": "ca5225c8",
   "metadata": {},
   "outputs": [
    {
     "data": {
      "text/plain": [
       "True"
      ]
     },
     "execution_count": 15,
     "metadata": {},
     "output_type": "execute_result"
    }
   ],
   "source": [
    "\"2\" not in Equation"
   ]
  },
  {
   "cell_type": "code",
   "execution_count": 16,
   "id": "865e0c8b",
   "metadata": {},
   "outputs": [
    {
     "data": {
      "text/plain": [
       "True"
      ]
     },
     "execution_count": 16,
     "metadata": {},
     "output_type": "execute_result"
    }
   ],
   "source": [
    "'6' not in Equation"
   ]
  },
  {
   "cell_type": "code",
   "execution_count": 17,
   "id": "5c285a0b",
   "metadata": {},
   "outputs": [
    {
     "data": {
      "text/plain": [
       "True"
      ]
     },
     "execution_count": 17,
     "metadata": {},
     "output_type": "execute_result"
    }
   ],
   "source": [
    "'go' not in 'home'"
   ]
  },
  {
   "cell_type": "code",
   "execution_count": 24,
   "id": "20a85e87",
   "metadata": {},
   "outputs": [
    {
     "data": {
      "text/plain": [
       "False"
      ]
     },
     "execution_count": 24,
     "metadata": {},
     "output_type": "execute_result"
    }
   ],
   "source": [
    "'top' not in 'laptop'"
   ]
  }
 ],
 "metadata": {
  "kernelspec": {
   "display_name": "Python 3 (ipykernel)",
   "language": "python",
   "name": "python3"
  },
  "language_info": {
   "codemirror_mode": {
    "name": "ipython",
    "version": 3
   },
   "file_extension": ".py",
   "mimetype": "text/x-python",
   "name": "python",
   "nbconvert_exporter": "python",
   "pygments_lexer": "ipython3",
   "version": "3.11.5"
  }
 },
 "nbformat": 4,
 "nbformat_minor": 5
}
